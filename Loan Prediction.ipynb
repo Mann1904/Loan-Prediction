{
 "cells": [
  {
   "cell_type": "markdown",
   "metadata": {},
   "source": [
    "# Loan Prediction"
   ]
  },
  {
   "cell_type": "markdown",
   "metadata": {},
   "source": [
    "## References:"
   ]
  },
  {
   "cell_type": "markdown",
   "metadata": {},
   "source": [
    "[1]https://datahack.analyticsvidhya.com/contest/practice-problem-loan-prediction-iii/#ProblemStatement"
   ]
  },
  {
   "cell_type": "markdown",
   "metadata": {},
   "source": [
    "## Problem:"
   ]
  },
  {
   "cell_type": "markdown",
   "metadata": {},
   "source": [
    "    Dream Housing Finance company deals in all home loans. They have presence across all urban, semi urban and rural areas. Customer first apply for home loan after that company validates the customer eligibility for loan.\n",
    "\n",
    "    Company wants to automate the loan eligibility process (real time) based on customer detail provided while filling online application form. These details are Gender, Marital Status, Education, Number of Dependents, Income, Loan Amount, Credit History and others. To automate this process, they have given a problem to identify the customers segments, those are eligible for loan amount so that they can specifically target these customers. Here they have provided a partial data set."
   ]
  },
  {
   "cell_type": "markdown",
   "metadata": {},
   "source": [
    "## Description about the Data Columns:"
   ]
  },
  {
   "cell_type": "markdown",
   "metadata": {},
   "source": [
    "    train data set :  614\n",
    "    test data set :  367"
   ]
  },
  {
   "cell_type": "markdown",
   "metadata": {},
   "source": [
    "Variable| Description\n",
    ":-:|:-:\n",
    "Loan_ID|   Unique Loan ID\n",
    "Gender | Male/ Female\n",
    "Married |Applicant married (Y/N)\n",
    "Dependents|  Number of dependents\n",
    "Education  | Applicant Education (Graduate/ Under Graduate)\n",
    "Self_Employed|   Self employed (Y/N)\n",
    "ApplicantIncome|   Applicant income\n",
    "CoapplicantIncome|   Coapplicant income\n",
    "LoanAmount   |Loan amount in thousands\n",
    "Loan_Amount_Term|   Term of loan in months\n",
    "Credit_History   |credit history meets guidelines\n",
    "Property_Area  |Urban/ Semi Urban/ Rural\n",
    "Loan_Status   |Loan approved (Y/N)"
   ]
  },
  {
   "cell_type": "markdown",
   "metadata": {},
   "source": [
    "## Hypothesis Generation :"
   ]
  },
  {
   "cell_type": "markdown",
   "metadata": {},
   "source": [
    "    (1) Salary: Applicants with high income should have more chances of loan approval.\n",
    "    \n",
    "    (2) Previous history: Applicants who have repayed their previous debts should have higher chances of loan approval.\n",
    "    \n",
    "    (3) Loan amount: Loan approval should also depend on the loan amount. If the loan amount is less, chances of loan approval should be high.\n",
    "\n",
    "    (4) Loan term: Loan for less time period and less amount should have higher chances of approval.\n",
    "\n",
    "    (5) EMI: Lesser the amount to be paid monthly to repay the loan, higher the chances of loan approval."
   ]
  },
  {
   "cell_type": "code",
   "execution_count": 1,
   "metadata": {},
   "outputs": [],
   "source": [
    "import pandas as pd\n",
    "import matplotlib.pyplot as plt\n",
    "%matplotlib inline\n",
    "import numpy as np\n",
    "import seaborn as sns\n",
    "from sklearn import metrics\n",
    "from sklearn.model_selection import cross_val_score"
   ]
  },
  {
   "cell_type": "code",
   "execution_count": 2,
   "metadata": {},
   "outputs": [],
   "source": [
    "train = pd.read_csv('train_ctrUa4K.csv')\n",
    "test = pd.read_csv('test_lAUu6dG.csv')"
   ]
  },
  {
   "cell_type": "code",
   "execution_count": 3,
   "metadata": {},
   "outputs": [
    {
     "data": {
      "text/html": [
       "<div>\n",
       "<style scoped>\n",
       "    .dataframe tbody tr th:only-of-type {\n",
       "        vertical-align: middle;\n",
       "    }\n",
       "\n",
       "    .dataframe tbody tr th {\n",
       "        vertical-align: top;\n",
       "    }\n",
       "\n",
       "    .dataframe thead th {\n",
       "        text-align: right;\n",
       "    }\n",
       "</style>\n",
       "<table border=\"1\" class=\"dataframe\">\n",
       "  <thead>\n",
       "    <tr style=\"text-align: right;\">\n",
       "      <th></th>\n",
       "      <th>Loan_ID</th>\n",
       "      <th>Gender</th>\n",
       "      <th>Married</th>\n",
       "      <th>Dependents</th>\n",
       "      <th>Education</th>\n",
       "      <th>Self_Employed</th>\n",
       "      <th>ApplicantIncome</th>\n",
       "      <th>CoapplicantIncome</th>\n",
       "      <th>LoanAmount</th>\n",
       "      <th>Loan_Amount_Term</th>\n",
       "      <th>Credit_History</th>\n",
       "      <th>Property_Area</th>\n",
       "      <th>Loan_Status</th>\n",
       "      <th>Source</th>\n",
       "    </tr>\n",
       "  </thead>\n",
       "  <tbody>\n",
       "    <tr>\n",
       "      <td>0</td>\n",
       "      <td>LP001002</td>\n",
       "      <td>Male</td>\n",
       "      <td>No</td>\n",
       "      <td>0</td>\n",
       "      <td>Graduate</td>\n",
       "      <td>No</td>\n",
       "      <td>5849</td>\n",
       "      <td>0.0</td>\n",
       "      <td>NaN</td>\n",
       "      <td>360.0</td>\n",
       "      <td>1.0</td>\n",
       "      <td>Urban</td>\n",
       "      <td>Y</td>\n",
       "      <td>train</td>\n",
       "    </tr>\n",
       "    <tr>\n",
       "      <td>1</td>\n",
       "      <td>LP001003</td>\n",
       "      <td>Male</td>\n",
       "      <td>Yes</td>\n",
       "      <td>1</td>\n",
       "      <td>Graduate</td>\n",
       "      <td>No</td>\n",
       "      <td>4583</td>\n",
       "      <td>1508.0</td>\n",
       "      <td>128.0</td>\n",
       "      <td>360.0</td>\n",
       "      <td>1.0</td>\n",
       "      <td>Rural</td>\n",
       "      <td>N</td>\n",
       "      <td>train</td>\n",
       "    </tr>\n",
       "    <tr>\n",
       "      <td>2</td>\n",
       "      <td>LP001005</td>\n",
       "      <td>Male</td>\n",
       "      <td>Yes</td>\n",
       "      <td>0</td>\n",
       "      <td>Graduate</td>\n",
       "      <td>Yes</td>\n",
       "      <td>3000</td>\n",
       "      <td>0.0</td>\n",
       "      <td>66.0</td>\n",
       "      <td>360.0</td>\n",
       "      <td>1.0</td>\n",
       "      <td>Urban</td>\n",
       "      <td>Y</td>\n",
       "      <td>train</td>\n",
       "    </tr>\n",
       "    <tr>\n",
       "      <td>3</td>\n",
       "      <td>LP001006</td>\n",
       "      <td>Male</td>\n",
       "      <td>Yes</td>\n",
       "      <td>0</td>\n",
       "      <td>Not Graduate</td>\n",
       "      <td>No</td>\n",
       "      <td>2583</td>\n",
       "      <td>2358.0</td>\n",
       "      <td>120.0</td>\n",
       "      <td>360.0</td>\n",
       "      <td>1.0</td>\n",
       "      <td>Urban</td>\n",
       "      <td>Y</td>\n",
       "      <td>train</td>\n",
       "    </tr>\n",
       "    <tr>\n",
       "      <td>4</td>\n",
       "      <td>LP001008</td>\n",
       "      <td>Male</td>\n",
       "      <td>No</td>\n",
       "      <td>0</td>\n",
       "      <td>Graduate</td>\n",
       "      <td>No</td>\n",
       "      <td>6000</td>\n",
       "      <td>0.0</td>\n",
       "      <td>141.0</td>\n",
       "      <td>360.0</td>\n",
       "      <td>1.0</td>\n",
       "      <td>Urban</td>\n",
       "      <td>Y</td>\n",
       "      <td>train</td>\n",
       "    </tr>\n",
       "  </tbody>\n",
       "</table>\n",
       "</div>"
      ],
      "text/plain": [
       "    Loan_ID Gender Married Dependents     Education Self_Employed  \\\n",
       "0  LP001002   Male      No          0      Graduate            No   \n",
       "1  LP001003   Male     Yes          1      Graduate            No   \n",
       "2  LP001005   Male     Yes          0      Graduate           Yes   \n",
       "3  LP001006   Male     Yes          0  Not Graduate            No   \n",
       "4  LP001008   Male      No          0      Graduate            No   \n",
       "\n",
       "   ApplicantIncome  CoapplicantIncome  LoanAmount  Loan_Amount_Term  \\\n",
       "0             5849                0.0         NaN             360.0   \n",
       "1             4583             1508.0       128.0             360.0   \n",
       "2             3000                0.0        66.0             360.0   \n",
       "3             2583             2358.0       120.0             360.0   \n",
       "4             6000                0.0       141.0             360.0   \n",
       "\n",
       "   Credit_History Property_Area Loan_Status Source  \n",
       "0             1.0         Urban           Y  train  \n",
       "1             1.0         Rural           N  train  \n",
       "2             1.0         Urban           Y  train  \n",
       "3             1.0         Urban           Y  train  \n",
       "4             1.0         Urban           Y  train  "
      ]
     },
     "execution_count": 3,
     "metadata": {},
     "output_type": "execute_result"
    }
   ],
   "source": [
    "train['Source'] = 'train'\n",
    "test['Source'] = 'test'\n",
    "data = pd.concat([train,test],ignore_index=True,sort=False)\n",
    "data.head()"
   ]
  },
  {
   "cell_type": "markdown",
   "metadata": {},
   "source": [
    "## Explolatory Data Analysis:"
   ]
  },
  {
   "cell_type": "markdown",
   "metadata": {},
   "source": [
    "### 1. Univariate Analysis"
   ]
  },
  {
   "cell_type": "markdown",
   "metadata": {},
   "source": [
    "   1.1 **Categorical Variables**"
   ]
  },
  {
   "cell_type": "code",
   "execution_count": 4,
   "metadata": {},
   "outputs": [],
   "source": [
    "categorical_columns = [x for x in data.dtypes.index if data.dtypes[x]=='object']\n",
    "\n",
    "categorical_columns = [x for x in categorical_columns if x not in ['Source','Loan_ID']]"
   ]
  },
  {
   "cell_type": "code",
   "execution_count": 5,
   "metadata": {},
   "outputs": [
    {
     "data": {
      "image/png": "[encoded data removed]",
      "text/plain": [
       "<Figure size 1080x1800 with 8 Axes>"
      ]
     },
     "metadata": {
      "needs_background": "light"
     },
     "output_type": "display_data"
    }
   ],
   "source": [
    "fig, ax = plt.subplots(4,2, figsize=(15, 25))\n",
    "for variable, subplot in zip(categorical_columns, ax.flatten()):\n",
    "    sns.countplot(data[variable], ax=subplot)"
   ]
  },
  {
   "cell_type": "code",
   "execution_count": 6,
   "metadata": {},
   "outputs": [
    {
     "name": "stdout",
     "output_type": "stream",
     "text": [
      "\n",
      "\n",
      "Frequency of categories for variable : Gender\n",
      "Male      775\n",
      "Female    182\n",
      "Name: Gender, dtype: int64\n",
      "\n",
      "\n",
      "Frequency of categories for variable : Married\n",
      "Yes    631\n",
      "No     347\n",
      "Name: Married, dtype: int64\n",
      "\n",
      "\n",
      "Frequency of categories for variable : Dependents\n",
      "0     545\n",
      "2     160\n",
      "1     160\n",
      "3+     91\n",
      "Name: Dependents, dtype: int64\n",
      "\n",
      "\n",
      "Frequency of categories for variable : Education\n",
      "Graduate        763\n",
      "Not Graduate    218\n",
      "Name: Education, dtype: int64\n",
      "\n",
      "\n",
      "Frequency of categories for variable : Self_Employed\n",
      "No     807\n",
      "Yes    119\n",
      "Name: Self_Employed, dtype: int64\n",
      "\n",
      "\n",
      "Frequency of categories for variable : Property_Area\n",
      "Semiurban    349\n",
      "Urban        342\n",
      "Rural        290\n",
      "Name: Property_Area, dtype: int64\n",
      "\n",
      "\n",
      "Frequency of categories for variable : Loan_Status\n",
      "Y    422\n",
      "N    192\n",
      "Name: Loan_Status, dtype: int64\n"
     ]
    }
   ],
   "source": [
    "categorical_columns = [x for x in data.dtypes.index if data.dtypes[x]=='object']\n",
    "\n",
    "categorical_columns = [x for x in categorical_columns if x not in ['Source','Loan_ID']]\n",
    "\n",
    "for col in categorical_columns:\n",
    "    print('\\n\\nFrequency of categories for variable : %s'%col)\n",
    "    print(data[col].value_counts())"
   ]
  },
  {
   "cell_type": "markdown",
   "metadata": {},
   "source": [
    "**Conclusion :**"
   ]
  },
  {
   "cell_type": "markdown",
   "metadata": {},
   "source": [
    "    1. Around 80% applicants in the dataset are male.\n",
    "    \n",
    "    2. Around 65% of the applicants in the dataset are married.\n",
    "    \n",
    "    3. Most of the applicants don’t have any dependents.\n",
    "    \n",
    "    4. Around 80% of the applicants are Graduate.\n",
    "    \n",
    "    5. Around 15% applicants in the dataset are self employed.\n",
    "    \n",
    "    6. Most of the applicants are from Semiurban area.\n",
    "    \n",
    "    7. The loan of 422(around 69%) people out of 614 was approved.\n",
    "    \n",
    "    \n",
    "        "
   ]
  },
  {
   "cell_type": "markdown",
   "metadata": {},
   "source": [
    "1.2 **Numerical Variables**"
   ]
  },
  {
   "cell_type": "code",
   "execution_count": 7,
   "metadata": {},
   "outputs": [
    {
     "data": {
      "image/png": "[encoded data removed]",
      "text/plain": [
       "<Figure size 1152x360 with 2 Axes>"
      ]
     },
     "metadata": {
      "needs_background": "light"
     },
     "output_type": "display_data"
    }
   ],
   "source": [
    "plt.figure(1) \n",
    "plt.subplot(121) \n",
    "sns.distplot(data['ApplicantIncome']); \n",
    "plt.subplot(122) \n",
    "data['ApplicantIncome'].plot.box(figsize=(16,5)) \n",
    "plt.show()"
   ]
  },
  {
   "cell_type": "markdown",
   "metadata": {},
   "source": [
    "    It can be inferred that most of the data in the distribution of applicant income is towards left which means it is not normally distributed.We will try to make it normal in later sections as algorithms works better if the data is normally distributed.\n",
    "    \n",
    "    The boxplot confirms the presence of a lot of outliers/extreme values. Part of this can be driven by the fact that we are looking at people with different education levels. Let us segregate them by Education:"
   ]
  },
  {
   "cell_type": "code",
   "execution_count": 8,
   "metadata": {},
   "outputs": [
    {
     "data": {
      "image/png": "[encoded data removed]",
      "text/plain": [
       "<Figure size 432x288 with 1 Axes>"
      ]
     },
     "metadata": {
      "needs_background": "light"
     },
     "output_type": "display_data"
    }
   ],
   "source": [
    "data.boxplot(column ='ApplicantIncome',by = 'Education')\n",
    "plt.suptitle(\"\")\n",
    "plt.show()"
   ]
  },
  {
   "cell_type": "markdown",
   "metadata": {},
   "source": [
    "    We can see that there are a higher number of graduates with very high incomes, which are appearing to be the outliers.\n",
    "    \n",
    "    Let’s look at the Coapplicant income distribution."
   ]
  },
  {
   "cell_type": "code",
   "execution_count": 9,
   "metadata": {},
   "outputs": [
    {
     "data": {
      "image/png": "[encoded data removed]",
      "text/plain": [
       "<Figure size 1152x360 with 2 Axes>"
      ]
     },
     "metadata": {
      "needs_background": "light"
     },
     "output_type": "display_data"
    }
   ],
   "source": [
    "plt.figure(1)\n",
    "plt.subplot(121)\n",
    "sns.distplot(data['CoapplicantIncome']);\n",
    "plt.subplot(122)\n",
    "data['CoapplicantIncome'].plot.box(figsize=(16,5))\n",
    "plt.show()"
   ]
  },
  {
   "cell_type": "markdown",
   "metadata": {},
   "source": [
    "    We see a similar distribution as that of the applicant income. We also see a lot of outliers in the coapplicant income and it is not normally distributed.\n",
    "    \n",
    "    Let’s look at the distribution of LoanAmount variable."
   ]
  },
  {
   "cell_type": "code",
   "execution_count": 10,
   "metadata": {},
   "outputs": [
    {
     "data": {
      "image/png": "[encoded data removed]",
      "text/plain": [
       "<Figure size 1152x360 with 2 Axes>"
      ]
     },
     "metadata": {
      "needs_background": "light"
     },
     "output_type": "display_data"
    }
   ],
   "source": [
    "plt.figure(1)\n",
    "plt.subplot(121)\n",
    "sns.distplot(data['LoanAmount'])\n",
    "plt.subplot(122)\n",
    "data['LoanAmount'].plot.box(figsize=(16,5))\n",
    "plt.show()"
   ]
  },
  {
   "cell_type": "markdown",
   "metadata": {},
   "source": [
    "    We see a lot of outliers in this variable and the distribution is normal. We will treat the outliers in later sections."
   ]
  },
  {
   "cell_type": "markdown",
   "metadata": {},
   "source": [
    "### 2. Bivariate Analysis"
   ]
  },
  {
   "cell_type": "markdown",
   "metadata": {},
   "source": [
    "    Lets recall some of the hypotheses that we generated earlier:\n",
    "    \n",
    "    (1) Salary: Applicants with high income should have more chances of loan approval.\n",
    "    \n",
    "    (2) Credit history: Applicants who have good credit history should have higher chances of loan approval.\n",
    "    \n",
    "    (3) Loan amount: Loan approval should also depend on the loan amount. If the loan amount is less, chances of loan approval should be high.\n",
    "\n",
    "    (4) Loan term: Loan for less time period and less amount should have higher chances of approval.\n",
    "\n",
    "    (5) EMI: Lesser the amount to be paid monthly to repay the loan, higher the chances of loan approval.\n",
    "    \n",
    "    Lets try to test the above mentioned hypotheses using bivariate analysis\n",
    "    \n",
    "    After looking at every variable individually in univariate analysis, we will now explore them again with respect to the target variable."
   ]
  },
  {
   "cell_type": "markdown",
   "metadata": {},
   "source": [
    "**2.1 Categorical Variable vs Target Variable**"
   ]
  },
  {
   "cell_type": "code",
   "execution_count": 11,
   "metadata": {},
   "outputs": [
    {
     "data": {
      "image/png": "[encoded data removed]",
      "text/plain": [
       "<Figure size 1080x1800 with 8 Axes>"
      ]
     },
     "metadata": {
      "needs_background": "light"
     },
     "output_type": "display_data"
    }
   ],
   "source": [
    "Gender=pd.crosstab(data['Gender'],data['Loan_Status']) \n",
    "Married=pd.crosstab(data['Married'],data['Loan_Status']) \n",
    "Dependents=pd.crosstab(data['Dependents'],data['Loan_Status']) \n",
    "Education=pd.crosstab(data['Education'],data['Loan_Status']) \n",
    "Self_Employed=pd.crosstab(data['Self_Employed'],data['Loan_Status']) \n",
    "Property_Area = pd.crosstab(data['Property_Area'],data['Loan_Status'])\n",
    "Credit_History = pd.crosstab(data['Credit_History'],data['Loan_Status'])\n",
    "\n",
    "fig, axs = plt.subplots(nrows=4, ncols=2,figsize=(15,25))\n",
    "\n",
    "Gender.div(Gender.sum(1).astype(float), axis=0).plot(kind=\"bar\", stacked=True, ax=axs[0][0]) \n",
    "Married.div(Married.sum(1).astype(float), axis=0).plot(kind=\"bar\", stacked=True, ax=axs[0][1]) \n",
    "Dependents.div(Dependents.sum(1).astype(float), axis=0).plot(kind=\"bar\", stacked=True,ax=axs[1][0]) \n",
    "Education.div(Education.sum(1).astype(float), axis=0).plot(kind=\"bar\", stacked=True, ax=axs[1][1]) \n",
    "Self_Employed.div(Self_Employed.sum(1).astype(float), axis=0).plot(kind=\"bar\", stacked=True, ax=axs[2][0]) \n",
    "Property_Area.div(Property_Area.sum(1).astype(float),axis=0).plot(kind='bar',stacked=True,ax=axs[2][1])\n",
    "Credit_History.div(Credit_History.sum(1).astype(float),axis=0).plot(kind='bar',stacked=True,ax=axs[3][0])\n",
    "plt.show()"
   ]
  },
  {
   "cell_type": "markdown",
   "metadata": {},
   "source": [
    "**Conclusion :**"
   ]
  },
  {
   "cell_type": "markdown",
   "metadata": {},
   "source": [
    "    (1) Distribution of applicants with male or female is similar across both the categories of Loan_Status.\n",
    "    \n",
    "    (2) proportion of married applicants is higher for the approved loans.\n",
    "    \n",
    "    (3) Distribution of applicants with 1 or 3+ dependents is similar across both the categories of Loan_Status.\n",
    "    \n",
    "    (4) Proportion of loans approved in semiurban area is higher.\n",
    "    \n",
    "    (5) proportion of loans approved for applicants with credit history as 1 is higher.\n",
    "    "
   ]
  },
  {
   "cell_type": "markdown",
   "metadata": {},
   "source": [
    "**2.2 Numerical Independent Variable vs Target Variable**"
   ]
  },
  {
   "cell_type": "code",
   "execution_count": 12,
   "metadata": {},
   "outputs": [
    {
     "data": {
      "image/png": "[encoded data removed]",
      "text/plain": [
       "<Figure size 432x288 with 1 Axes>"
      ]
     },
     "metadata": {
      "needs_background": "light"
     },
     "output_type": "display_data"
    }
   ],
   "source": [
    "# visualize ApplicantIncome\n",
    "data.groupby('Loan_Status')['ApplicantIncome'].mean().plot.bar()\n",
    "plt.show()"
   ]
  },
  {
   "cell_type": "markdown",
   "metadata": {},
   "source": [
    "    We don’t see any change in the mean income. So, let’s make bins for the applicant income variable based on the values in it and analyze the corresponding loan status for each bin."
   ]
  },
  {
   "cell_type": "code",
   "execution_count": 13,
   "metadata": {},
   "outputs": [
    {
     "data": {
      "text/plain": [
       "count      981.000000\n",
       "mean      5179.795107\n",
       "std       5695.104533\n",
       "min          0.000000\n",
       "25%       2875.000000\n",
       "50%       3800.000000\n",
       "75%       5516.000000\n",
       "max      81000.000000\n",
       "Name: ApplicantIncome, dtype: float64"
      ]
     },
     "execution_count": 13,
     "metadata": {},
     "output_type": "execute_result"
    }
   ],
   "source": [
    "data['ApplicantIncome'].describe()"
   ]
  },
  {
   "cell_type": "code",
   "execution_count": 14,
   "metadata": {},
   "outputs": [
    {
     "data": {
      "image/png": "[encoded data removed]",
      "text/plain": [
       "<Figure size 432x288 with 1 Axes>"
      ]
     },
     "metadata": {
      "needs_background": "light"
     },
     "output_type": "display_data"
    }
   ],
   "source": [
    "bins = [0,3000,4000,6000,81000]\n",
    "group = ['Low','Average','High','Very High']\n",
    "data['Income_Bin'] = pd.cut(data['ApplicantIncome'],bins,labels=group)\n",
    "\n",
    "Income_Bin = pd.crosstab(data['Income_Bin'],data['Loan_Status'])\n",
    "Income_Bin.div(Income_Bin.sum(1).astype(float),axis=0).plot(kind='bar',stacked=True)\n",
    "plt.show()"
   ]
  },
  {
   "cell_type": "markdown",
   "metadata": {},
   "source": [
    "    It can be affered that ApplicantIncome does not affect the chances of loan approval which contradics our hypothesis in which we assumed that if the ApplicantIncome is high the chances of loan approval will also be high."
   ]
  },
  {
   "cell_type": "code",
   "execution_count": 15,
   "metadata": {},
   "outputs": [
    {
     "data": {
      "text/plain": [
       "count      981.000000\n",
       "mean      1601.916330\n",
       "std       2718.772806\n",
       "min          0.000000\n",
       "25%          0.000000\n",
       "50%       1110.000000\n",
       "75%       2365.000000\n",
       "max      41667.000000\n",
       "Name: CoapplicantIncome, dtype: float64"
      ]
     },
     "execution_count": 15,
     "metadata": {},
     "output_type": "execute_result"
    }
   ],
   "source": [
    "data['CoapplicantIncome'].describe()"
   ]
  },
  {
   "cell_type": "code",
   "execution_count": 16,
   "metadata": {},
   "outputs": [
    {
     "data": {
      "image/png": "[encoded data removed]",
      "text/plain": [
       "<Figure size 432x288 with 1 Axes>"
      ]
     },
     "metadata": {
      "needs_background": "light"
     },
     "output_type": "display_data"
    }
   ],
   "source": [
    "bins = [0,1000,3000,41000]\n",
    "group = ['Low','Average','High']\n",
    "data['CoapplicantIncome_Bin'] = pd.cut(data['CoapplicantIncome'],bins,labels=group)\n",
    "\n",
    "coapplicantincome_bin = pd.crosstab(data['CoapplicantIncome_Bin'],data['Loan_Status'])\n",
    "coapplicantincome_bin.div(coapplicantincome_bin.sum(1).astype(float),axis=0).plot(kind='bar',stacked=True)\n",
    "plt.show()"
   ]
  },
  {
   "cell_type": "markdown",
   "metadata": {},
   "source": [
    "    It shows that if coapplicant’s income is less the chances of loan approval are high. But this does not look right.The possible reason behind this may be that most of applicant don't have any coapplicant so coaaplicant income for such applicant is 0 and hence the loan approval is not dependent on it.So we can make new variable in which we will combine the applicant's and coapplicant's income to visualize the combined effect of income on loan approval.\n",
    "        "
   ]
  },
  {
   "cell_type": "code",
   "execution_count": 17,
   "metadata": {},
   "outputs": [
    {
     "data": {
      "text/plain": [
       "count      981.000000\n",
       "mean      6781.711437\n",
       "std       6023.952550\n",
       "min       1442.000000\n",
       "25%       4166.000000\n",
       "50%       5314.000000\n",
       "75%       7308.000000\n",
       "max      81000.000000\n",
       "Name: Total_Income, dtype: float64"
      ]
     },
     "execution_count": 17,
     "metadata": {},
     "output_type": "execute_result"
    }
   ],
   "source": [
    "data['Total_Income'] = data['ApplicantIncome']+data['CoapplicantIncome']\n",
    "data['Total_Income'].describe()"
   ]
  },
  {
   "cell_type": "code",
   "execution_count": 18,
   "metadata": {},
   "outputs": [
    {
     "data": {
      "image/png": "[encoded data removed]",
      "text/plain": [
       "<Figure size 432x288 with 1 Axes>"
      ]
     },
     "metadata": {
      "needs_background": "light"
     },
     "output_type": "display_data"
    }
   ],
   "source": [
    "bins = [0,2500,4000,6000,81000]\n",
    "group = ['Low','Average','High','Very High']\n",
    "data['Total_Income_Bin'] = pd.cut(data['Total_Income'],bins,labels=group)\n",
    "\n",
    "total_income_bin = pd.crosstab(data['Total_Income_Bin'],data['Loan_Status'])\n",
    "total_income_bin.div(total_income_bin.sum(1).astype(float),axis=0).plot(kind='bar',stacked=True)\n",
    "plt.show()\n"
   ]
  },
  {
   "cell_type": "markdown",
   "metadata": {},
   "source": [
    "    We can see that Proportion of loans getting approved for applicants having low Total_Income is very less as compared to that of applicants with Average, High and Very High Income."
   ]
  },
  {
   "cell_type": "code",
   "execution_count": 19,
   "metadata": {},
   "outputs": [
    {
     "data": {
      "text/plain": [
       "count    954.000000\n",
       "mean     142.511530\n",
       "std       77.421743\n",
       "min        9.000000\n",
       "25%      100.000000\n",
       "50%      126.000000\n",
       "75%      162.000000\n",
       "max      700.000000\n",
       "Name: LoanAmount, dtype: float64"
      ]
     },
     "execution_count": 19,
     "metadata": {},
     "output_type": "execute_result"
    }
   ],
   "source": [
    "data['LoanAmount'].describe()"
   ]
  },
  {
   "cell_type": "code",
   "execution_count": 20,
   "metadata": {},
   "outputs": [
    {
     "data": {
      "image/png": "[encoded data removed]",
      "text/plain": [
       "<Figure size 432x288 with 1 Axes>"
      ]
     },
     "metadata": {
      "needs_background": "light"
     },
     "output_type": "display_data"
    }
   ],
   "source": [
    "bins = [0,100,200,700]\n",
    "group = ['Low','Average','High']\n",
    "\n",
    "data['LoanAmount_Bin'] = pd.cut(data['LoanAmount'],bins,labels=group)\n",
    "\n",
    "LoanAmount_bin = pd.crosstab(data['LoanAmount_Bin'],data['Loan_Status'])\n",
    "LoanAmount_bin.div(LoanAmount_bin.sum(1).astype(float),axis=0).plot(kind='bar',stacked=True)\n",
    "plt.show()"
   ]
  },
  {
   "cell_type": "markdown",
   "metadata": {},
   "source": [
    "    It can be seen that the proportion of approved loans is higher for Low and Average Loan Amount as compared to that of High Loan Amount which supports our hypothesis in which we considered that the chances of loan approval will be high when the loan amount is less.\n",
    "    \n",
    "    Let’s drop the bins which we created for the exploration part. "
   ]
  },
  {
   "cell_type": "code",
   "execution_count": 21,
   "metadata": {},
   "outputs": [],
   "source": [
    "data.drop(['Income_Bin', 'CoapplicantIncome_Bin', 'LoanAmount_Bin', 'Total_Income_Bin', 'Total_Income'], axis=1,inplace=True)"
   ]
  },
  {
   "cell_type": "code",
   "execution_count": 22,
   "metadata": {},
   "outputs": [
    {
     "data": {
      "text/plain": [
       "<matplotlib.axes._subplots.AxesSubplot at 0x233527cec08>"
      ]
     },
     "execution_count": 22,
     "metadata": {},
     "output_type": "execute_result"
    },
    {
     "data": {
      "image/png": "[encoded data removed]",
      "text/plain": [
       "<Figure size 432x288 with 2 Axes>"
      ]
     },
     "metadata": {
      "needs_background": "light"
     },
     "output_type": "display_data"
    }
   ],
   "source": [
    "sns.heatmap(data.corr())"
   ]
  },
  {
   "cell_type": "markdown",
   "metadata": {},
   "source": [
    "    We see that the most correlated variables are (ApplicantIncome - LoanAmount). LoanAmount is also correlated with CoapplicantIncome."
   ]
  },
  {
   "cell_type": "code",
   "execution_count": 23,
   "metadata": {},
   "outputs": [
    {
     "data": {
      "text/html": [
       "<div>\n",
       "<style scoped>\n",
       "    .dataframe tbody tr th:only-of-type {\n",
       "        vertical-align: middle;\n",
       "    }\n",
       "\n",
       "    .dataframe tbody tr th {\n",
       "        vertical-align: top;\n",
       "    }\n",
       "\n",
       "    .dataframe thead th {\n",
       "        text-align: right;\n",
       "    }\n",
       "</style>\n",
       "<table border=\"1\" class=\"dataframe\">\n",
       "  <thead>\n",
       "    <tr style=\"text-align: right;\">\n",
       "      <th></th>\n",
       "      <th>ApplicantIncome</th>\n",
       "      <th>CoapplicantIncome</th>\n",
       "      <th>LoanAmount</th>\n",
       "      <th>Loan_Amount_Term</th>\n",
       "      <th>Credit_History</th>\n",
       "    </tr>\n",
       "  </thead>\n",
       "  <tbody>\n",
       "    <tr>\n",
       "      <td>count</td>\n",
       "      <td>981.000000</td>\n",
       "      <td>981.000000</td>\n",
       "      <td>954.000000</td>\n",
       "      <td>961.000000</td>\n",
       "      <td>902.000000</td>\n",
       "    </tr>\n",
       "    <tr>\n",
       "      <td>mean</td>\n",
       "      <td>5179.795107</td>\n",
       "      <td>1601.916330</td>\n",
       "      <td>142.511530</td>\n",
       "      <td>342.201873</td>\n",
       "      <td>0.835920</td>\n",
       "    </tr>\n",
       "    <tr>\n",
       "      <td>std</td>\n",
       "      <td>5695.104533</td>\n",
       "      <td>2718.772806</td>\n",
       "      <td>77.421743</td>\n",
       "      <td>65.100602</td>\n",
       "      <td>0.370553</td>\n",
       "    </tr>\n",
       "    <tr>\n",
       "      <td>min</td>\n",
       "      <td>0.000000</td>\n",
       "      <td>0.000000</td>\n",
       "      <td>9.000000</td>\n",
       "      <td>6.000000</td>\n",
       "      <td>0.000000</td>\n",
       "    </tr>\n",
       "    <tr>\n",
       "      <td>25%</td>\n",
       "      <td>2875.000000</td>\n",
       "      <td>0.000000</td>\n",
       "      <td>100.000000</td>\n",
       "      <td>360.000000</td>\n",
       "      <td>1.000000</td>\n",
       "    </tr>\n",
       "    <tr>\n",
       "      <td>50%</td>\n",
       "      <td>3800.000000</td>\n",
       "      <td>1110.000000</td>\n",
       "      <td>126.000000</td>\n",
       "      <td>360.000000</td>\n",
       "      <td>1.000000</td>\n",
       "    </tr>\n",
       "    <tr>\n",
       "      <td>75%</td>\n",
       "      <td>5516.000000</td>\n",
       "      <td>2365.000000</td>\n",
       "      <td>162.000000</td>\n",
       "      <td>360.000000</td>\n",
       "      <td>1.000000</td>\n",
       "    </tr>\n",
       "    <tr>\n",
       "      <td>max</td>\n",
       "      <td>81000.000000</td>\n",
       "      <td>41667.000000</td>\n",
       "      <td>700.000000</td>\n",
       "      <td>480.000000</td>\n",
       "      <td>1.000000</td>\n",
       "    </tr>\n",
       "  </tbody>\n",
       "</table>\n",
       "</div>"
      ],
      "text/plain": [
       "       ApplicantIncome  CoapplicantIncome  LoanAmount  Loan_Amount_Term  \\\n",
       "count       981.000000         981.000000  954.000000        961.000000   \n",
       "mean       5179.795107        1601.916330  142.511530        342.201873   \n",
       "std        5695.104533        2718.772806   77.421743         65.100602   \n",
       "min           0.000000           0.000000    9.000000          6.000000   \n",
       "25%        2875.000000           0.000000  100.000000        360.000000   \n",
       "50%        3800.000000        1110.000000  126.000000        360.000000   \n",
       "75%        5516.000000        2365.000000  162.000000        360.000000   \n",
       "max       81000.000000       41667.000000  700.000000        480.000000   \n",
       "\n",
       "       Credit_History  \n",
       "count      902.000000  \n",
       "mean         0.835920  \n",
       "std          0.370553  \n",
       "min          0.000000  \n",
       "25%          1.000000  \n",
       "50%          1.000000  \n",
       "75%          1.000000  \n",
       "max          1.000000  "
      ]
     },
     "execution_count": 23,
     "metadata": {},
     "output_type": "execute_result"
    }
   ],
   "source": [
    "data.describe()"
   ]
  },
  {
   "cell_type": "code",
   "execution_count": 24,
   "metadata": {},
   "outputs": [
    {
     "name": "stdout",
     "output_type": "stream",
     "text": [
      "<class 'pandas.core.frame.DataFrame'>\n",
      "RangeIndex: 981 entries, 0 to 980\n",
      "Data columns (total 14 columns):\n",
      "Loan_ID              981 non-null object\n",
      "Gender               957 non-null object\n",
      "Married              978 non-null object\n",
      "Dependents           956 non-null object\n",
      "Education            981 non-null object\n",
      "Self_Employed        926 non-null object\n",
      "ApplicantIncome      981 non-null int64\n",
      "CoapplicantIncome    981 non-null float64\n",
      "LoanAmount           954 non-null float64\n",
      "Loan_Amount_Term     961 non-null float64\n",
      "Credit_History       902 non-null float64\n",
      "Property_Area        981 non-null object\n",
      "Loan_Status          614 non-null object\n",
      "Source               981 non-null object\n",
      "dtypes: float64(4), int64(1), object(9)\n",
      "memory usage: 107.4+ KB\n"
     ]
    }
   ],
   "source": [
    "data.info()"
   ]
  },
  {
   "cell_type": "markdown",
   "metadata": {},
   "source": [
    "## Handling Missing Values :"
   ]
  },
  {
   "cell_type": "code",
   "execution_count": 25,
   "metadata": {},
   "outputs": [
    {
     "data": {
      "text/plain": [
       "Loan_ID                0\n",
       "Gender                24\n",
       "Married                3\n",
       "Dependents            25\n",
       "Education              0\n",
       "Self_Employed         55\n",
       "ApplicantIncome        0\n",
       "CoapplicantIncome      0\n",
       "LoanAmount            27\n",
       "Loan_Amount_Term      20\n",
       "Credit_History        79\n",
       "Property_Area          0\n",
       "Loan_Status          367\n",
       "Source                 0\n",
       "dtype: int64"
      ]
     },
     "execution_count": 25,
     "metadata": {},
     "output_type": "execute_result"
    }
   ],
   "source": [
    "data.isnull().sum()"
   ]
  },
  {
   "cell_type": "markdown",
   "metadata": {},
   "source": [
    "    We can consider these methods to fill the missing values:\n",
    "\n",
    "    (1) For numerical variables: imputation using mean or median\n",
    "    (2) For categorical variables: imputation using mode"
   ]
  },
  {
   "cell_type": "code",
   "execution_count": 26,
   "metadata": {},
   "outputs": [],
   "source": [
    "data['Gender'].fillna(data['Gender'].mode()[0], inplace=True) \n",
    "data['Married'].fillna(data['Married'].mode()[0], inplace=True) \n",
    "data['Dependents'].fillna(data['Dependents'].mode()[0], inplace=True) \n",
    "data['Self_Employed'].fillna(data['Self_Employed'].mode()[0], inplace=True) \n",
    "data['Credit_History'].fillna(data['Credit_History'].mode()[0], inplace=True)\n",
    "data['Loan_Amount_Term'].fillna(data['Loan_Amount_Term'].mode()[0], inplace=True)\n",
    "data['LoanAmount'].fillna(data['LoanAmount'].median(), inplace=True)"
   ]
  },
  {
   "cell_type": "code",
   "execution_count": 27,
   "metadata": {},
   "outputs": [
    {
     "data": {
      "text/plain": [
       "Loan_ID                0\n",
       "Gender                 0\n",
       "Married                0\n",
       "Dependents             0\n",
       "Education              0\n",
       "Self_Employed          0\n",
       "ApplicantIncome        0\n",
       "CoapplicantIncome      0\n",
       "LoanAmount             0\n",
       "Loan_Amount_Term       0\n",
       "Credit_History         0\n",
       "Property_Area          0\n",
       "Loan_Status          367\n",
       "Source                 0\n",
       "dtype: int64"
      ]
     },
     "execution_count": 27,
     "metadata": {},
     "output_type": "execute_result"
    }
   ],
   "source": [
    "data.isnull().sum()"
   ]
  },
  {
   "cell_type": "markdown",
   "metadata": {},
   "source": [
    "## Getting new data columns :"
   ]
  },
  {
   "cell_type": "markdown",
   "metadata": {},
   "source": [
    "    1) We have two column named 'ApplicantIncome' and 'CoapplicantIncome'. It may be the case total income might have good impact on Loan Status.\n",
    "    \n",
    "    2) It may be the case EMI is good impact on Loan Status as it combine two column 'LoanAmount' and 'Loan_Amount_Term'. \n",
    "    \n",
    "    3) It may be the case Debt amount ratio(EMI*12/total income) is good impact on loan Status."
   ]
  },
  {
   "cell_type": "markdown",
   "metadata": {},
   "source": [
    "Hence the formula that can be used is\n",
    "\n",
    "    1) Total Income = Applicant Income + Co-applicant Income\n",
    "    \n",
    "    2) The mathematical formula for calculating EMIs is:\n",
    "        \n",
    "        EMI = [P x R x (1+R)^N]/[(1+R)^N-1]\n",
    "        \n",
    "        where P stands for the loan amount or principal, R is the interest rate per month and N is the number of monthly instalments.\n",
    "        for home loans let’s check the interest rates in google for several banks. I have found that on an average it would be around 8.5% to 9.5%. Hence for safe-side I am assuming that 9% is the interest rate.\n",
    "        \n",
    "    3) Debt_Amount_Ratio = 12*EMI / TotalIncome."
   ]
  },
  {
   "cell_type": "code",
   "execution_count": 28,
   "metadata": {},
   "outputs": [
    {
     "data": {
      "text/plain": [
       "0      5849.0\n",
       "1      6091.0\n",
       "2      3000.0\n",
       "3      4941.0\n",
       "4      6000.0\n",
       "        ...  \n",
       "976    5786.0\n",
       "977    4867.0\n",
       "978    5243.0\n",
       "979    7393.0\n",
       "980    9200.0\n",
       "Name: TotalIncome, Length: 981, dtype: float64"
      ]
     },
     "execution_count": 28,
     "metadata": {},
     "output_type": "execute_result"
    }
   ],
   "source": [
    "# creating new column TotalIncome\n",
    "# TotalIncome = ApplicantIncome + CoapplicantIncome\n",
    "\n",
    "data['TotalIncome'] = data['ApplicantIncome']+data['CoapplicantIncome']\n",
    "data['TotalIncome']"
   ]
  },
  {
   "cell_type": "code",
   "execution_count": 29,
   "metadata": {},
   "outputs": [],
   "source": [
    "# creating new column EMI\n",
    "# EMI = [P x R x (1+R)^N]/[(1+R)^N-1]\n",
    "\n",
    "# for one month interest\n",
    "R = 9/(12*100)\n",
    "\n",
    "EMI = []\n",
    "# calculate A = P x R x (1+R)^N\n",
    "for P, N in zip(data['LoanAmount'],data['Loan_Amount_Term']):\n",
    "    EMI.append((P*R*pow(1+R,N)) / (pow(1+R,N-1)))\n",
    "    \n",
    "data['EMI'] = EMI"
   ]
  },
  {
   "cell_type": "code",
   "execution_count": 30,
   "metadata": {},
   "outputs": [],
   "source": [
    "# creating new column debt_amount_ratio\n",
    "\n",
    "# debt_amount_ratio = (EMI)*12 / TotalIncome\n",
    "Debt_Amount_Ratio = []\n",
    "for i,j in zip(data['TotalIncome'],data['EMI']):\n",
    "    Debt_Amount_Ratio.append((j*12.0)/i)\n",
    "\n",
    "data['Debt_Amount_Ratio'] = Debt_Amount_Ratio"
   ]
  },
  {
   "cell_type": "code",
   "execution_count": 31,
   "metadata": {},
   "outputs": [
    {
     "data": {
      "image/png": "[encoded data removed]",
      "text/plain": [
       "<Figure size 1152x360 with 2 Axes>"
      ]
     },
     "metadata": {
      "needs_background": "light"
     },
     "output_type": "display_data"
    }
   ],
   "source": [
    "# check the distribution of TotalIncome variable\n",
    "plt.figure(1)\n",
    "plt.subplot(121)\n",
    "sns.distplot(data['TotalIncome'])\n",
    "plt.subplot(122)\n",
    "data['TotalIncome'].plot.box(figsize=(16,5))\n",
    "plt.show()"
   ]
  },
  {
   "cell_type": "code",
   "execution_count": 32,
   "metadata": {},
   "outputs": [
    {
     "data": {
      "image/png": "[encoded data removed]",
      "text/plain": [
       "<Figure size 1152x360 with 2 Axes>"
      ]
     },
     "metadata": {
      "needs_background": "light"
     },
     "output_type": "display_data"
    }
   ],
   "source": [
    "# check the distribution of EMI variable\n",
    "plt.figure(1)\n",
    "plt.subplot(121)\n",
    "sns.distplot(data['EMI'])\n",
    "plt.subplot(122)\n",
    "data['EMI'].plot.box(figsize=(16,5))\n",
    "plt.show()"
   ]
  },
  {
   "cell_type": "code",
   "execution_count": 33,
   "metadata": {
    "scrolled": true
   },
   "outputs": [
    {
     "data": {
      "image/png": "[encoded data removed]",
      "text/plain": [
       "<Figure size 1152x360 with 2 Axes>"
      ]
     },
     "metadata": {
      "needs_background": "light"
     },
     "output_type": "display_data"
    }
   ],
   "source": [
    "# check the distribution of EMI variable\n",
    "plt.figure(1)\n",
    "plt.subplot(121)\n",
    "sns.distplot(data['Debt_Amount_Ratio'])\n",
    "plt.subplot(122)\n",
    "data['Debt_Amount_Ratio'].plot.box(figsize=(16,5))\n",
    "plt.show()"
   ]
  },
  {
   "cell_type": "markdown",
   "metadata": {},
   "source": [
    "    We can see that TotalIncome is not normally distributed and there are lots of outliers and also EMI & Debt_Amount_Ratio are not normally distributed.\n",
    "    "
   ]
  },
  {
   "cell_type": "code",
   "execution_count": 34,
   "metadata": {
    "scrolled": true
   },
   "outputs": [
    {
     "data": {
      "image/png": "[encoded data removed]",
      "text/plain": [
       "<Figure size 1152x360 with 2 Axes>"
      ]
     },
     "metadata": {
      "needs_background": "light"
     },
     "output_type": "display_data"
    }
   ],
   "source": [
    "# normilize TotalIncome variable \n",
    "\n",
    "data['TotalIncome'] = np.log(data['TotalIncome'])\n",
    "\n",
    "plt.figure(1)\n",
    "plt.subplot(121)\n",
    "sns.distplot(data['TotalIncome'])\n",
    "plt.subplot(122)\n",
    "data['TotalIncome'].plot.box(figsize=(16,5))\n",
    "plt.show()"
   ]
  },
  {
   "cell_type": "markdown",
   "metadata": {},
   "source": [
    "    Now, We can see that distribusion of TotalIncome is normal."
   ]
  },
  {
   "cell_type": "code",
   "execution_count": 35,
   "metadata": {},
   "outputs": [
    {
     "data": {
      "image/png": "[encoded data removed]",
      "text/plain": [
       "<Figure size 1152x360 with 2 Axes>"
      ]
     },
     "metadata": {
      "needs_background": "light"
     },
     "output_type": "display_data"
    }
   ],
   "source": [
    "# normilize EMI variable \n",
    "\n",
    "data['EMI'] = (data['EMI']**(1/3))\n",
    "\n",
    "plt.figure(1)\n",
    "plt.subplot(121)\n",
    "sns.distplot(data['EMI'])\n",
    "plt.subplot(122)\n",
    "data['EMI'].plot.box(figsize=(16,5))\n",
    "plt.show()"
   ]
  },
  {
   "cell_type": "code",
   "execution_count": 36,
   "metadata": {},
   "outputs": [
    {
     "data": {
      "image/png": "[encoded data removed]",
      "text/plain": [
       "<Figure size 1152x360 with 2 Axes>"
      ]
     },
     "metadata": {
      "needs_background": "light"
     },
     "output_type": "display_data"
    }
   ],
   "source": [
    "# normalize Debt_Amount_Ratio variable \n",
    "\n",
    "data['Debt_Amount_Ratio'] = (data['Debt_Amount_Ratio']**(1/3))\n",
    "\n",
    "plt.figure(1)\n",
    "plt.subplot(121)\n",
    "sns.distplot(data['Debt_Amount_Ratio'])\n",
    "plt.subplot(122)\n",
    "data['Debt_Amount_Ratio'].plot.box(figsize=(16,5))\n",
    "plt.show()"
   ]
  },
  {
   "cell_type": "code",
   "execution_count": 37,
   "metadata": {},
   "outputs": [
    {
     "data": {
      "text/html": [
       "<div>\n",
       "<style scoped>\n",
       "    .dataframe tbody tr th:only-of-type {\n",
       "        vertical-align: middle;\n",
       "    }\n",
       "\n",
       "    .dataframe tbody tr th {\n",
       "        vertical-align: top;\n",
       "    }\n",
       "\n",
       "    .dataframe thead th {\n",
       "        text-align: right;\n",
       "    }\n",
       "</style>\n",
       "<table border=\"1\" class=\"dataframe\">\n",
       "  <thead>\n",
       "    <tr style=\"text-align: right;\">\n",
       "      <th></th>\n",
       "      <th>Loan_ID</th>\n",
       "      <th>Gender</th>\n",
       "      <th>Married</th>\n",
       "      <th>Dependents</th>\n",
       "      <th>Education</th>\n",
       "      <th>Self_Employed</th>\n",
       "      <th>Credit_History</th>\n",
       "      <th>Property_Area</th>\n",
       "      <th>Loan_Status</th>\n",
       "      <th>Source</th>\n",
       "      <th>TotalIncome</th>\n",
       "      <th>EMI</th>\n",
       "      <th>Debt_Amount_Ratio</th>\n",
       "    </tr>\n",
       "  </thead>\n",
       "  <tbody>\n",
       "    <tr>\n",
       "      <td>0</td>\n",
       "      <td>LP001002</td>\n",
       "      <td>Male</td>\n",
       "      <td>No</td>\n",
       "      <td>0</td>\n",
       "      <td>Graduate</td>\n",
       "      <td>No</td>\n",
       "      <td>1.0</td>\n",
       "      <td>Urban</td>\n",
       "      <td>Y</td>\n",
       "      <td>train</td>\n",
       "      <td>8.674026</td>\n",
       "      <td>0.983767</td>\n",
       "      <td>0.125004</td>\n",
       "    </tr>\n",
       "    <tr>\n",
       "      <td>1</td>\n",
       "      <td>LP001003</td>\n",
       "      <td>Male</td>\n",
       "      <td>Yes</td>\n",
       "      <td>1</td>\n",
       "      <td>Graduate</td>\n",
       "      <td>No</td>\n",
       "      <td>1.0</td>\n",
       "      <td>Rural</td>\n",
       "      <td>N</td>\n",
       "      <td>train</td>\n",
       "      <td>8.714568</td>\n",
       "      <td>0.988945</td>\n",
       "      <td>0.123976</td>\n",
       "    </tr>\n",
       "    <tr>\n",
       "      <td>2</td>\n",
       "      <td>LP001005</td>\n",
       "      <td>Male</td>\n",
       "      <td>Yes</td>\n",
       "      <td>0</td>\n",
       "      <td>Graduate</td>\n",
       "      <td>Yes</td>\n",
       "      <td>1.0</td>\n",
       "      <td>Urban</td>\n",
       "      <td>Y</td>\n",
       "      <td>train</td>\n",
       "      <td>8.006368</td>\n",
       "      <td>0.793019</td>\n",
       "      <td>0.125884</td>\n",
       "    </tr>\n",
       "    <tr>\n",
       "      <td>3</td>\n",
       "      <td>LP001006</td>\n",
       "      <td>Male</td>\n",
       "      <td>Yes</td>\n",
       "      <td>0</td>\n",
       "      <td>Not Graduate</td>\n",
       "      <td>No</td>\n",
       "      <td>1.0</td>\n",
       "      <td>Urban</td>\n",
       "      <td>Y</td>\n",
       "      <td>train</td>\n",
       "      <td>8.505323</td>\n",
       "      <td>0.967897</td>\n",
       "      <td>0.130102</td>\n",
       "    </tr>\n",
       "    <tr>\n",
       "      <td>4</td>\n",
       "      <td>LP001008</td>\n",
       "      <td>Male</td>\n",
       "      <td>No</td>\n",
       "      <td>0</td>\n",
       "      <td>Graduate</td>\n",
       "      <td>No</td>\n",
       "      <td>1.0</td>\n",
       "      <td>Urban</td>\n",
       "      <td>Y</td>\n",
       "      <td>train</td>\n",
       "      <td>8.699515</td>\n",
       "      <td>1.021351</td>\n",
       "      <td>0.128682</td>\n",
       "    </tr>\n",
       "    <tr>\n",
       "      <td>...</td>\n",
       "      <td>...</td>\n",
       "      <td>...</td>\n",
       "      <td>...</td>\n",
       "      <td>...</td>\n",
       "      <td>...</td>\n",
       "      <td>...</td>\n",
       "      <td>...</td>\n",
       "      <td>...</td>\n",
       "      <td>...</td>\n",
       "      <td>...</td>\n",
       "      <td>...</td>\n",
       "      <td>...</td>\n",
       "      <td>...</td>\n",
       "    </tr>\n",
       "    <tr>\n",
       "      <td>976</td>\n",
       "      <td>LP002971</td>\n",
       "      <td>Male</td>\n",
       "      <td>Yes</td>\n",
       "      <td>3+</td>\n",
       "      <td>Not Graduate</td>\n",
       "      <td>Yes</td>\n",
       "      <td>1.0</td>\n",
       "      <td>Urban</td>\n",
       "      <td>NaN</td>\n",
       "      <td>test</td>\n",
       "      <td>8.663196</td>\n",
       "      <td>0.948699</td>\n",
       "      <td>0.120984</td>\n",
       "    </tr>\n",
       "    <tr>\n",
       "      <td>977</td>\n",
       "      <td>LP002975</td>\n",
       "      <td>Male</td>\n",
       "      <td>Yes</td>\n",
       "      <td>0</td>\n",
       "      <td>Graduate</td>\n",
       "      <td>No</td>\n",
       "      <td>1.0</td>\n",
       "      <td>Urban</td>\n",
       "      <td>NaN</td>\n",
       "      <td>test</td>\n",
       "      <td>8.490233</td>\n",
       "      <td>0.954263</td>\n",
       "      <td>0.128916</td>\n",
       "    </tr>\n",
       "    <tr>\n",
       "      <td>978</td>\n",
       "      <td>LP002980</td>\n",
       "      <td>Male</td>\n",
       "      <td>No</td>\n",
       "      <td>0</td>\n",
       "      <td>Graduate</td>\n",
       "      <td>No</td>\n",
       "      <td>1.0</td>\n",
       "      <td>Semiurban</td>\n",
       "      <td>NaN</td>\n",
       "      <td>test</td>\n",
       "      <td>8.564649</td>\n",
       "      <td>0.983767</td>\n",
       "      <td>0.129646</td>\n",
       "    </tr>\n",
       "    <tr>\n",
       "      <td>979</td>\n",
       "      <td>LP002986</td>\n",
       "      <td>Male</td>\n",
       "      <td>Yes</td>\n",
       "      <td>0</td>\n",
       "      <td>Graduate</td>\n",
       "      <td>No</td>\n",
       "      <td>1.0</td>\n",
       "      <td>Rural</td>\n",
       "      <td>NaN</td>\n",
       "      <td>test</td>\n",
       "      <td>8.908289</td>\n",
       "      <td>1.060851</td>\n",
       "      <td>0.124674</td>\n",
       "    </tr>\n",
       "    <tr>\n",
       "      <td>980</td>\n",
       "      <td>LP002989</td>\n",
       "      <td>Male</td>\n",
       "      <td>No</td>\n",
       "      <td>0</td>\n",
       "      <td>Graduate</td>\n",
       "      <td>Yes</td>\n",
       "      <td>1.0</td>\n",
       "      <td>Rural</td>\n",
       "      <td>NaN</td>\n",
       "      <td>test</td>\n",
       "      <td>9.126959</td>\n",
       "      <td>0.904713</td>\n",
       "      <td>0.098850</td>\n",
       "    </tr>\n",
       "  </tbody>\n",
       "</table>\n",
       "<p>981 rows × 13 columns</p>\n",
       "</div>"
      ],
      "text/plain": [
       "      Loan_ID Gender Married Dependents     Education Self_Employed  \\\n",
       "0    LP001002   Male      No          0      Graduate            No   \n",
       "1    LP001003   Male     Yes          1      Graduate            No   \n",
       "2    LP001005   Male     Yes          0      Graduate           Yes   \n",
       "3    LP001006   Male     Yes          0  Not Graduate            No   \n",
       "4    LP001008   Male      No          0      Graduate            No   \n",
       "..        ...    ...     ...        ...           ...           ...   \n",
       "976  LP002971   Male     Yes         3+  Not Graduate           Yes   \n",
       "977  LP002975   Male     Yes          0      Graduate            No   \n",
       "978  LP002980   Male      No          0      Graduate            No   \n",
       "979  LP002986   Male     Yes          0      Graduate            No   \n",
       "980  LP002989   Male      No          0      Graduate           Yes   \n",
       "\n",
       "     Credit_History Property_Area Loan_Status Source  TotalIncome       EMI  \\\n",
       "0               1.0         Urban           Y  train     8.674026  0.983767   \n",
       "1               1.0         Rural           N  train     8.714568  0.988945   \n",
       "2               1.0         Urban           Y  train     8.006368  0.793019   \n",
       "3               1.0         Urban           Y  train     8.505323  0.967897   \n",
       "4               1.0         Urban           Y  train     8.699515  1.021351   \n",
       "..              ...           ...         ...    ...          ...       ...   \n",
       "976             1.0         Urban         NaN   test     8.663196  0.948699   \n",
       "977             1.0         Urban         NaN   test     8.490233  0.954263   \n",
       "978             1.0     Semiurban         NaN   test     8.564649  0.983767   \n",
       "979             1.0         Rural         NaN   test     8.908289  1.060851   \n",
       "980             1.0         Rural         NaN   test     9.126959  0.904713   \n",
       "\n",
       "     Debt_Amount_Ratio  \n",
       "0             0.125004  \n",
       "1             0.123976  \n",
       "2             0.125884  \n",
       "3             0.130102  \n",
       "4             0.128682  \n",
       "..                 ...  \n",
       "976           0.120984  \n",
       "977           0.128916  \n",
       "978           0.129646  \n",
       "979           0.124674  \n",
       "980           0.098850  \n",
       "\n",
       "[981 rows x 13 columns]"
      ]
     },
     "execution_count": 37,
     "metadata": {},
     "output_type": "execute_result"
    }
   ],
   "source": [
    "# dropping the orignal columns\n",
    "\n",
    "data.drop(['ApplicantIncome','CoapplicantIncome','LoanAmount','Loan_Amount_Term'],axis=1,inplace=True)\n",
    "data"
   ]
  },
  {
   "cell_type": "markdown",
   "metadata": {},
   "source": [
    "## One Hot Encoding of categorical variables"
   ]
  },
  {
   "cell_type": "code",
   "execution_count": 38,
   "metadata": {},
   "outputs": [],
   "source": [
    "from sklearn.preprocessing import LabelEncoder"
   ]
  },
  {
   "cell_type": "code",
   "execution_count": 39,
   "metadata": {},
   "outputs": [
    {
     "name": "stdout",
     "output_type": "stream",
     "text": [
      "['Gender', 'Married', 'Dependents', 'Education', 'Self_Employed', 'Property_Area']\n"
     ]
    },
    {
     "data": {
      "text/plain": [
       "Loan_ID               object\n",
       "Credit_History       float64\n",
       "Loan_Status           object\n",
       "Source                object\n",
       "TotalIncome          float64\n",
       "EMI                  float64\n",
       "Debt_Amount_Ratio    float64\n",
       "Gender_1               uint8\n",
       "Married_1              uint8\n",
       "Dependents_1           uint8\n",
       "Dependents_2           uint8\n",
       "Dependents_3           uint8\n",
       "Education_1            uint8\n",
       "Self_Employed_1        uint8\n",
       "Property_Area_1        uint8\n",
       "Property_Area_2        uint8\n",
       "dtype: object"
      ]
     },
     "execution_count": 39,
     "metadata": {},
     "output_type": "execute_result"
    }
   ],
   "source": [
    "le = LabelEncoder()\n",
    "\n",
    "categorical_columns = [x for x in data.dtypes.index if data.dtypes[x]=='object']\n",
    "\n",
    "categorical_columns = [x for x in categorical_columns if x not in ['Source','Loan_ID','Loan_Status']]\n",
    "print(categorical_columns)\n",
    "\n",
    "for col in categorical_columns:\n",
    "    data[col] = le.fit_transform(data[col])\n",
    "\n",
    "#OneHotEncoding\n",
    "data = pd.get_dummies(data,columns=categorical_columns,drop_first=True)\n",
    "\n",
    "data.dtypes"
   ]
  },
  {
   "cell_type": "markdown",
   "metadata": {},
   "source": [
    "## Exporting Data"
   ]
  },
  {
   "cell_type": "code",
   "execution_count": 40,
   "metadata": {},
   "outputs": [],
   "source": [
    "import warnings\n",
    "warnings.filterwarnings('ignore')\n",
    "\n",
    "train = data.loc[data['Source']=='train']\n",
    "test = data.loc[data['Source']=='test']\n",
    "\n",
    "train['Loan_Status'].replace('N',0,inplace=True)\n",
    "train['Loan_Status'].replace('Y',1,inplace=True)\n",
    "\n",
    "# Drop unnecessary columns\n",
    "train.drop(['Source'],axis=1,inplace=True)\n",
    "test.drop(['Source','Loan_Status'],axis=1,inplace=True)"
   ]
  },
  {
   "cell_type": "code",
   "execution_count": 41,
   "metadata": {},
   "outputs": [
    {
     "data": {
      "text/plain": [
       "(614, 15)"
      ]
     },
     "execution_count": 41,
     "metadata": {},
     "output_type": "execute_result"
    }
   ],
   "source": [
    "train.shape"
   ]
  },
  {
   "cell_type": "code",
   "execution_count": 42,
   "metadata": {},
   "outputs": [
    {
     "data": {
      "text/plain": [
       "(367, 14)"
      ]
     },
     "execution_count": 42,
     "metadata": {},
     "output_type": "execute_result"
    }
   ],
   "source": [
    "test.shape"
   ]
  },
  {
   "cell_type": "code",
   "execution_count": 43,
   "metadata": {},
   "outputs": [],
   "source": [
    "target = ['Loan_Status']\n",
    "\n",
    "predictors = [x for x in train.columns if x not in ['Loan_ID','Loan_Status']]\n",
    "\n",
    "X = train[predictors]\n",
    "y = train[target]"
   ]
  },
  {
   "cell_type": "markdown",
   "metadata": {},
   "source": [
    "## Model Building : "
   ]
  },
  {
   "cell_type": "markdown",
   "metadata": {},
   "source": [
    "### LogisticRegression"
   ]
  },
  {
   "cell_type": "code",
   "execution_count": 44,
   "metadata": {},
   "outputs": [
    {
     "name": "stdout",
     "output_type": "stream",
     "text": [
      "[0.87096774 0.77419355 0.87096774 0.74193548 0.74193548 0.80645161\n",
      " 0.74193548 0.77419355 0.74193548 0.83870968 0.74193548 0.80645161\n",
      " 0.87096774 0.87096774 0.83333333 0.86666667 0.76666667 0.86666667\n",
      " 0.83333333 0.83333333]\n",
      "Model Report\n",
      "\n",
      "Accuracy Score = 0.8094\n",
      "\n",
      "CV Score : Mean = 0.8097 | std = 0.0507\n"
     ]
    }
   ],
   "source": [
    "from sklearn.linear_model import LogisticRegression\n",
    "\n",
    "LR = LogisticRegression()\n",
    "\n",
    "model = LR.fit(X,y)\n",
    "\n",
    "cv_score = cross_val_score(model,X,y,cv=20,scoring='accuracy')\n",
    "print(cv_score)\n",
    "#print model report\n",
    "print('Model Report')\n",
    "print(\"\\nAccuracy Score = %.4g\"%metrics.accuracy_score(y,model.predict(X)))\n",
    "print(\"\\nCV Score : Mean = %.4g | std = %.4f\"%(np.mean(cv_score),np.std(cv_score)))"
   ]
  },
  {
   "cell_type": "markdown",
   "metadata": {},
   "source": [
    "### Decision Tree"
   ]
  },
  {
   "cell_type": "code",
   "execution_count": 45,
   "metadata": {},
   "outputs": [
    {
     "name": "stdout",
     "output_type": "stream",
     "text": [
      "[0.87096774 0.77419355 0.87096774 0.74193548 0.74193548 0.80645161\n",
      " 0.74193548 0.77419355 0.74193548 0.83870968 0.74193548 0.80645161\n",
      " 0.87096774 0.87096774 0.83333333 0.86666667 0.76666667 0.86666667\n",
      " 0.83333333 0.83333333]\n",
      "Model Report\n",
      "\n",
      "Accuracy Score = 0.8094\n",
      "\n",
      "CV Score : Mean = 0.8097 | std = 0.0507\n"
     ]
    }
   ],
   "source": [
    "from sklearn.tree import DecisionTreeClassifier\n",
    "\n",
    "DT = DecisionTreeClassifier(max_depth=10,min_samples_leaf=50)\n",
    "model = DT.fit(X,y)\n",
    "\n",
    "cv_score = cross_val_score(model,X,y,cv=20,scoring='accuracy')\n",
    "print(cv_score)\n",
    "#print model report\n",
    "print('Model Report')\n",
    "print(\"\\nAccuracy Score = %.4g\"%metrics.accuracy_score(y,model.predict(X)))\n",
    "print(\"\\nCV Score : Mean = %.4g | std = %.4f\"%(np.mean(cv_score),np.std(cv_score)))"
   ]
  },
  {
   "cell_type": "markdown",
   "metadata": {},
   "source": [
    "### RandomForest"
   ]
  },
  {
   "cell_type": "code",
   "execution_count": 46,
   "metadata": {},
   "outputs": [
    {
     "name": "stdout",
     "output_type": "stream",
     "text": [
      "{'bootstrap': [True, False],\n",
      " 'max_depth': [10, 19, 28, 37, 46, 55, 64, 73, 82, 91, 100, None],\n",
      " 'max_features': ['auto', 'sqrt'],\n",
      " 'min_samples_leaf': [10, 20, 30, 50, 40],\n",
      " 'min_samples_split': [2, 5, 10],\n",
      " 'n_estimators': [200, 366, 533, 700, 866, 1033, 1200, 1366, 1533, 1700]}\n"
     ]
    }
   ],
   "source": [
    "from pprint import pprint\n",
    "from sklearn.model_selection import RandomizedSearchCV\n",
    "\n",
    "# Number of trees \n",
    "n_estimators = [int(x) for x in np.linspace(start = 200, stop = 1700, num = 10)]\n",
    "# Number of features to consider at every split\n",
    "max_features = ['auto', 'sqrt']\n",
    "# Maximum number of levels in tree\n",
    "max_depth = [int(x) for x in np.linspace(10, 100, num = 11)]\n",
    "max_depth.append(None)\n",
    "# Minimum number of samples required to split a node\n",
    "min_samples_split = [2, 5, 10]\n",
    "# Minimum number of samples required at each leaf node\n",
    "min_samples_leaf = [10,20,30,50,40]\n",
    "# Method of selecting samples for training each tree\n",
    "bootstrap = [True, False]\n",
    "\n",
    "\n",
    "# Create the random grid\n",
    "random_grid = {'n_estimators': n_estimators,\n",
    "               'max_features': max_features,\n",
    "               'max_depth': max_depth,\n",
    "               'min_samples_split': min_samples_split,\n",
    "               'min_samples_leaf': min_samples_leaf,\n",
    "               'bootstrap': bootstrap}\n",
    "pprint(random_grid)"
   ]
  },
  {
   "cell_type": "code",
   "execution_count": 47,
   "metadata": {},
   "outputs": [
    {
     "name": "stdout",
     "output_type": "stream",
     "text": [
      "Fitting 3 folds for each of 100 candidates, totalling 300 fits\n"
     ]
    },
    {
     "name": "stderr",
     "output_type": "stream",
     "text": [
      "[Parallel(n_jobs=-1)]: Using backend LokyBackend with 4 concurrent workers.\n",
      "[Parallel(n_jobs=-1)]: Done  33 tasks      | elapsed:   40.9s\n",
      "[Parallel(n_jobs=-1)]: Done 154 tasks      | elapsed:  3.2min\n",
      "[Parallel(n_jobs=-1)]: Done 300 out of 300 | elapsed:  5.9min finished\n"
     ]
    },
    {
     "data": {
      "text/plain": [
       "{'n_estimators': 200,\n",
       " 'min_samples_split': 10,\n",
       " 'min_samples_leaf': 30,\n",
       " 'max_features': 'sqrt',\n",
       " 'max_depth': 46,\n",
       " 'bootstrap': False}"
      ]
     },
     "execution_count": 47,
     "metadata": {},
     "output_type": "execute_result"
    }
   ],
   "source": [
    "from sklearn.ensemble import RandomForestClassifier\n",
    "rf = RandomForestClassifier()\n",
    "rf_random = RandomizedSearchCV(estimator = rf, param_distributions = random_grid, n_iter = 100, cv = 3, verbose=2, random_state=42, n_jobs = -1)\n",
    "rf_random.fit(X, y)\n",
    "rf_random.best_params_"
   ]
  },
  {
   "cell_type": "code",
   "execution_count": 52,
   "metadata": {},
   "outputs": [
    {
     "name": "stdout",
     "output_type": "stream",
     "text": [
      "[0.87096774 0.77419355 0.87096774 0.74193548 0.74193548 0.80645161\n",
      " 0.74193548 0.77419355 0.74193548 0.83870968 0.74193548 0.80645161\n",
      " 0.87096774 0.87096774 0.83333333 0.86666667 0.76666667 0.86666667\n",
      " 0.83333333 0.83333333]\n",
      "Model Report\n",
      "\n",
      "Accuracy Score = 0.8111\n",
      "\n",
      "CV Score : Mean = 0.8097 | std = 0.0507\n"
     ]
    }
   ],
   "source": [
    "from sklearn.ensemble import RandomForestClassifier\n",
    "\n",
    "RF = RandomForestClassifier(n_estimators=366,max_depth=10,min_samples_leaf=20,min_samples_split=5,bootstrap=False,max_features='auto')\n",
    "model = RF.fit(X,y)\n",
    "\n",
    "cv_score = cross_val_score(model,X,y,cv=20,scoring='accuracy')\n",
    "print(cv_score)\n",
    "#print model report\n",
    "print('Model Report')\n",
    "print(\"\\nAccuracy Score = %.4g\"%metrics.accuracy_score(y,model.predict(X)))\n",
    "print(\"\\nCV Score : Mean = %.4g | std = %.4f\"%(np.mean(cv_score),np.std(cv_score)))"
   ]
  },
  {
   "cell_type": "markdown",
   "metadata": {},
   "source": [
    "### AdaBoost"
   ]
  },
  {
   "cell_type": "code",
   "execution_count": 120,
   "metadata": {},
   "outputs": [
    {
     "name": "stdout",
     "output_type": "stream",
     "text": [
      "Fitting 20 folds for each of 100 candidates, totalling 2000 fits\n"
     ]
    },
    {
     "name": "stderr",
     "output_type": "stream",
     "text": [
      "[Parallel(n_jobs=-1)]: Using backend LokyBackend with 4 concurrent workers.\n",
      "[Parallel(n_jobs=-1)]: Done 108 tasks      | elapsed:    2.2s\n",
      "[Parallel(n_jobs=-1)]: Done 592 tasks      | elapsed:   10.4s\n",
      "[Parallel(n_jobs=-1)]: Done 1404 tasks      | elapsed:   27.8s\n",
      "[Parallel(n_jobs=-1)]: Done 2000 out of 2000 | elapsed:   42.1s finished\n"
     ]
    },
    {
     "data": {
      "text/plain": [
       "{'n_estimators': 4, 'learning_rate': 0.6}"
      ]
     },
     "execution_count": 120,
     "metadata": {},
     "output_type": "execute_result"
    }
   ],
   "source": [
    "from sklearn.model_selection import RandomizedSearchCV\n",
    "from sklearn.ensemble import AdaBoostClassifier\n",
    "\n",
    "random_grid = {\n",
    "    'n_estimators': [4,5,7,8,9,10,12,15,16,20,40],\n",
    "    'learning_rate': [0.01,0.1,0.2,0.3,0.03,0.5,0.6,0.8,0.9,1],\n",
    "}\n",
    "AB = AdaBoostClassifier()\n",
    "AB_random = RandomizedSearchCV(estimator = AB, param_distributions = random_grid, n_iter = 100, cv = 20, verbose=2, random_state=42, n_jobs = -1)\n",
    "AB_random.fit(X, y)\n",
    "AB_random.best_params_"
   ]
  },
  {
   "cell_type": "code",
   "execution_count": 122,
   "metadata": {},
   "outputs": [
    {
     "name": "stdout",
     "output_type": "stream",
     "text": [
      "[0.87096774 0.77419355 0.87096774 0.77419355 0.74193548 0.83870968\n",
      " 0.74193548 0.87096774 0.77419355 0.87096774 0.77419355 0.80645161\n",
      " 0.87096774 0.90322581 0.8        0.8        0.76666667 0.86666667\n",
      " 0.83333333 0.83333333]\n",
      "Model Report\n",
      "\n",
      "Accuracy Score = 0.8225\n",
      "\n",
      "CV Score : Mean = 0.8192 | std = 0.0486\n"
     ]
    }
   ],
   "source": [
    "from sklearn.ensemble import AdaBoostClassifier\n",
    "\n",
    "AB = AdaBoostClassifier(n_estimators=4,learning_rate=0.6)\n",
    "model = AB.fit(X,y)\n",
    "\n",
    "cv_score = cross_val_score(model,X,y,cv=20,scoring='accuracy')\n",
    "print(cv_score)\n",
    "#print model report\n",
    "print('Model Report')\n",
    "print(\"\\nAccuracy Score = %.4g\"%metrics.accuracy_score(y,model.predict(X)))\n",
    "print(\"\\nCV Score : Mean = %.4g | std = %.4f\"%(np.mean(cv_score),np.std(cv_score)))"
   ]
  },
  {
   "cell_type": "markdown",
   "metadata": {},
   "source": [
    "### XGBoost"
   ]
  },
  {
   "cell_type": "code",
   "execution_count": 135,
   "metadata": {},
   "outputs": [
    {
     "name": "stdout",
     "output_type": "stream",
     "text": [
      "Fitting 20 folds for each of 100 candidates, totalling 2000 fits\n"
     ]
    },
    {
     "name": "stderr",
     "output_type": "stream",
     "text": [
      "[Parallel(n_jobs=-1)]: Using backend LokyBackend with 4 concurrent workers.\n",
      "[Parallel(n_jobs=-1)]: Done 196 tasks      | elapsed:    5.3s\n",
      "[Parallel(n_jobs=-1)]: Done 636 tasks      | elapsed:   23.0s\n",
      "[Parallel(n_jobs=-1)]: Done 1011 tasks      | elapsed:  1.0min\n",
      "[Parallel(n_jobs=-1)]: Done 1675 tasks      | elapsed:  1.5min\n",
      "[Parallel(n_jobs=-1)]: Done 1993 out of 2000 | elapsed:  1.7min remaining:    0.3s\n",
      "[Parallel(n_jobs=-1)]: Done 2000 out of 2000 | elapsed:  1.7min finished\n"
     ]
    },
    {
     "data": {
      "text/plain": [
       "{'n_estimators': 4,\n",
       " 'min_child_weight': 5,\n",
       " 'max_depth': 15,\n",
       " 'learning_rate': 0.2,\n",
       " 'gamma': 0.0}"
      ]
     },
     "execution_count": 135,
     "metadata": {},
     "output_type": "execute_result"
    }
   ],
   "source": [
    "from sklearn.model_selection import RandomizedSearchCV\n",
    "from xgboost import XGBClassifier\n",
    "\n",
    "random_grid = {\n",
    "    'n_estimators': [4,5,9,10,16,20,40,60,100,300],\n",
    "    'learning_rate': [0.01,0.1,0.2,0.3,0.03,0.5,0.6,0.8,0.9,1],\n",
    "    'max_depth':[3,5,7,10,15],\n",
    "     'min_child_weight':[2,3,5,6,8,10],\n",
    "     'gamma': [i/10.0 for i in range(0,5)]\n",
    "}\n",
    "XGB = XGBClassifier()\n",
    "XGB_random = RandomizedSearchCV(estimator = XGB, param_distributions = random_grid, n_iter = 100, cv = 20, verbose=2, random_state=42, n_jobs = -1)\n",
    "XGB_random.fit(X, y)\n",
    "XGB_random.best_params_"
   ]
  },
  {
   "cell_type": "code",
   "execution_count": 136,
   "metadata": {},
   "outputs": [
    {
     "name": "stdout",
     "output_type": "stream",
     "text": [
      "[0.87096774 0.74193548 0.83870968 0.77419355 0.74193548 0.83870968\n",
      " 0.74193548 0.90322581 0.80645161 0.87096774 0.80645161 0.80645161\n",
      " 0.87096774 0.90322581 0.83333333 0.8        0.76666667 0.86666667\n",
      " 0.83333333 0.8       ]\n",
      "Model Report\n",
      "\n",
      "Accuracy Score = 0.829\n",
      "\n",
      "CV Score : Mean = 0.8208 | std = 0.0497\n"
     ]
    }
   ],
   "source": [
    "from xgboost import XGBClassifier\n",
    "\n",
    "XGB = XGBClassifier(n_estimators=4,max_depth=15,learning_rate=0.2,min_child_weight=5,gamma=0.0)\n",
    "model = XGB.fit(X,y)\n",
    "\n",
    "cv_score = cross_val_score(model,X,y,cv=20,scoring='accuracy')\n",
    "print(cv_score)\n",
    "#print model report\n",
    "print('Model Report')\n",
    "print(\"\\nAccuracy Score = %.4g\"%metrics.accuracy_score(y,model.predict(X)))\n",
    "print(\"\\nCV Score : Mean = %.4g | std = %.4f\"%(np.mean(cv_score),np.std(cv_score)))"
   ]
  },
  {
   "cell_type": "markdown",
   "metadata": {},
   "source": [
    "Model| CV Score\n",
    ":-:|:-:\n",
    "LogisticRegression    |     Mean = 0.8097 , std = 0.0507\n",
    "DecisionTreeClassification |  Mean = 0.8097, std = 0.0507\n",
    "RandomForestClassification | Mean = 0.8063, std = 0.0512\n",
    "AdaBoostClassification | Mean = 0.8192  std = 0.0486\n",
    "XgBoostClassification | Mean = 0.8208 std = 0.0497\n"
   ]
  },
  {
   "cell_type": "markdown",
   "metadata": {},
   "source": [
    "## Submission :"
   ]
  },
  {
   "cell_type": "code",
   "execution_count": 137,
   "metadata": {},
   "outputs": [],
   "source": [
    "ypred = model.predict(test[predictors])\n",
    "dic = {'Loan_ID':test['Loan_ID'],'Loan_Status':ypred}\n",
    "df = pd.DataFrame(dic)\n",
    "df['Loan_Status'].replace(0,'N',inplace=True)\n",
    "df['Loan_Status'].replace(1,'Y',inplace=True)\n",
    "df.to_csv('XGBoost_Submission.csv',index=False)"
   ]
  },
  {
   "cell_type": "code",
   "execution_count": null,
   "metadata": {},
   "outputs": [],
   "source": []
  }
 ],
 "metadata": {
  "kernelspec": {
   "display_name": "Python 3",
   "language": "python",
   "name": "python3"
  },
  "language_info": {
   "codemirror_mode": {
    "name": "ipython",
    "version": 3
   },
   "file_extension": ".py",
   "mimetype": "text/x-python",
   "name": "python",
   "nbconvert_exporter": "python",
   "pygments_lexer": "ipython3",
   "version": "3.7.4"
  }
 },
 "nbformat": 4,
 "nbformat_minor": 2
}
